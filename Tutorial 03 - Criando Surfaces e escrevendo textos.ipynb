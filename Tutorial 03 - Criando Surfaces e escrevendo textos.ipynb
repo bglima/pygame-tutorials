{
 "cells": [
  {
   "cell_type": "markdown",
   "metadata": {},
   "source": [
    "### O que veremos hoje?\n",
    "\n",
    "Neste tutorial criaremos nossa primeira tela de carregamento, utilizando textos animados. Os assuntos abordados incluem:\n",
    "* Controle de FPS\n",
    "* Utilização de temporizadores\n",
    "* Criação de _Surfaces_\n",
    "* Discussão sobre as fontes disponíveis\n",
    "* Discussão sobre o objeto _Rect_ e seus atributos\n",
    " "
   ]
  },
  {
   "cell_type": "markdown",
   "metadata": {},
   "source": [
    "### Criando _Surfaces_\n",
    "\n",
    "Vamos agora preencher o espaço vazio na seção Atualização de Variáveis. Inicialmente, vamos apenas escrever textos simples. Para não ficar tão chato, faremos um texto estático e um animado. No próximo tutorial aprenderemos como desenhar imagens animadas. "
   ]
  },
  {
   "cell_type": "code",
   "execution_count": 1,
   "metadata": {},
   "outputs": [
    {
     "name": "stdout",
     "output_type": "stream",
     "text": [
      "pygame 1.9.4\n",
      "Hello from the pygame community. https://www.pygame.org/contribute.html\n",
      "Inicializando game...\n",
      "Nosso game começou!\n",
      "Fim de game.\n"
     ]
    }
   ],
   "source": [
    "import pygame\n",
    "from pygame.locals import *\n",
    "\n",
    "pygame.init()\n",
    "print('Inicializando game...')\n",
    "\n",
    "# Definindo as configurações de FPS\n",
    "hertz = 60  # Taxa de atualização da tela em ciclos por segundo\n",
    "fps_clock = pygame.time.Clock()\n",
    "delta_time = 0 # Tempo em milisegundos desde o último tick de Clock \n",
    "\n",
    "# Definindo as configurações da janela\n",
    "window_size = (640, 480)\n",
    "main_surface = pygame.display.set_mode(window_size)\n",
    "pygame.display.set_caption('Academia Hacker')\n",
    "\n",
    "# Definindo as cores RGB\n",
    "fg_color = (0, 0, 0)\n",
    "bg_color = (255, 255, 255)\n",
    "greetings_surface = pygame.Surface(window_size)\n",
    "greetings_surface.fill(bg_color)\n",
    "\n",
    "# Preparando o primeiro texto\n",
    "font_size = 25\n",
    "font_obj = pygame.font.Font('freesansbold.ttf', font_size)\n",
    "text_surface = font_obj.render('Preparando para salvar o mundo', True, fg_color, bg_color)\n",
    "text_rect = text_surface.get_rect()\n",
    "text_rect.center = greetings_surface.get_rect().center\n",
    "\n",
    "# Preparando o segundo texto\n",
    "dots = ''\n",
    "dots_surface = font_obj.render(dots, True, fg_color, bg_color)\n",
    "dots_rect = dots_surface.get_rect()\n",
    "dots_rect.centerx = text_rect.left + text_rect.width\n",
    "dots_rect.centery = text_rect.centery\n",
    "\n",
    "print('Nosso game começou!')\n",
    "is_running = True\n",
    "\n",
    "\n",
    "while is_running:  # Loop principal\n",
    "    ######################\n",
    "    # Entrada de usuário #\n",
    "    ######################\n",
    "    for event in pygame.event.get():\n",
    "        if event.type == QUIT:\n",
    "            is_running = False\n",
    "\n",
    "    ############################\n",
    "    # Atualização de Variáveis #\n",
    "    ############################\n",
    "    delta_time += fps_clock.get_time()\n",
    "    if delta_time > 1000:\n",
    "        delta_time = 0\n",
    "        dots = dots+'.'\n",
    "        if len(dots) > 3:\n",
    "            dots='.'\n",
    "    dots_surface = font_obj.render(dots, True, fg_color, bg_color) \n",
    "    \n",
    "    greetings_surface.fill(bg_color)\n",
    "    greetings_surface.blit(text_surface, text_rect)\n",
    "    greetings_surface.blit(dots_surface, dots_rect)\n",
    "    \n",
    "\n",
    "    ##########################\n",
    "    # Atualização do Monitor #\n",
    "    ##########################    \n",
    "    main_surface.blit(greetings_surface, (0,0))\n",
    "    pygame.display.update() \n",
    "    fps_clock.tick(hertz)\n",
    "    \n",
    "print('Fim de game.')\n",
    "pygame.quit()"
   ]
  }
 ],
 "metadata": {
  "kernelspec": {
   "display_name": "Python 3",
   "language": "python",
   "name": "python3"
  },
  "language_info": {
   "codemirror_mode": {
    "name": "ipython",
    "version": 3
   },
   "file_extension": ".py",
   "mimetype": "text/x-python",
   "name": "python",
   "nbconvert_exporter": "python",
   "pygments_lexer": "ipython3",
   "version": "3.6.3"
  }
 },
 "nbformat": 4,
 "nbformat_minor": 2
}
