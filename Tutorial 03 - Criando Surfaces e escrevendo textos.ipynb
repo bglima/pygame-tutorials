{
 "cells": [
  {
   "cell_type": "markdown",
   "metadata": {},
   "source": [
    "### O que veremos hoje?\n",
    "\n",
    "Neste tutorial criaremos nossa primeira tela de carregamento, utilizando textos animados. Os assuntos abordados incluem:\n",
    "* Controle de FPS\n",
    "* Utilização de temporizadores\n",
    "* Criação de _Surfaces_\n",
    "* Discussão sobre as fontes disponíveis\n",
    "* Discussão sobre o objeto _Rect_ e seus atributos\n",
    " "
   ]
  },
  {
   "cell_type": "markdown",
   "metadata": {},
   "source": [
    "### Código que iremos discutir\n",
    "\n",
    "Vamos agora preencher o espaço vazio na seção Atualização de Variáveis. Inicialmente, vamos apenas escrever textos simples. Para não ficar tão chato, faremos um texto estático e um animado. No próximo tutorial aprenderemos como desenhar imagens animadas. "
   ]
  },
  {
   "cell_type": "code",
   "execution_count": 1,
   "metadata": {},
   "outputs": [
    {
     "name": "stdout",
     "output_type": "stream",
     "text": [
      "pygame 1.9.4\n",
      "Hello from the pygame community. https://www.pygame.org/contribute.html\n",
      "Inicializando game...\n",
      "Nosso game começou!\n",
      "Fim de game.\n"
     ]
    }
   ],
   "source": [
    "import pygame\n",
    "from pygame.locals import *\n",
    "\n",
    "pygame.init()\n",
    "print('Inicializando game...')\n",
    "\n",
    "# Definindo as configurações de FPS\n",
    "hertz = 60  # Taxa de atualização da tela em ciclos por segundo\n",
    "fps_clock = pygame.time.Clock()\n",
    "\n",
    "# Definindo as configurações da janela\n",
    "window_size = (640, 480)\n",
    "main_surface = pygame.display.set_mode(window_size)\n",
    "pygame.display.set_caption('Academia Hacker')\n",
    "\n",
    "# Definindo as cores RGB\n",
    "fg_color = (0, 0, 0)\n",
    "bg_color = (255, 255, 255)\n",
    "greetings_surface = pygame.Surface(window_size)\n",
    "greetings_surface.fill(bg_color)\n",
    "\n",
    "# Preparando o primeiro texto\n",
    "font_size = 25\n",
    "font_obj = pygame.font.Font('freesansbold.ttf', font_size)\n",
    "text_surface = font_obj.render('Preparando para salvar o mundo', True, fg_color, bg_color)\n",
    "text_rect = text_surface.get_rect()\n",
    "text_rect.center = greetings_surface.get_rect().center\n",
    "\n",
    "# Preparando o segundo texto\n",
    "dots = ''\n",
    "dots_surface = font_obj.render(dots, True, fg_color, bg_color)\n",
    "dots_rect = dots_surface.get_rect()\n",
    "dots_rect.centerx = text_rect.right\n",
    "dots_rect.centery = text_rect.centery\n",
    "\n",
    "# Setando o temporizador\n",
    "pygame.time.set_timer(USEREVENT, 1000) # Cria um temporizador de 1 segundo\n",
    "\n",
    "print('Nosso game começou!')\n",
    "is_running = True\n",
    "\n",
    "while is_running:  # Loop principal\n",
    "    ######################\n",
    "    # Entrada de usuário #\n",
    "    ######################\n",
    "    for event in pygame.event.get():\n",
    "        if event.type == QUIT:\n",
    "            is_running = False\n",
    "        elif event.type == USEREVENT:\n",
    "            dots = dots+'.'\n",
    "            if len(dots) > 3:\n",
    "                dots='.'\n",
    "\n",
    "    ############################\n",
    "    # Atualização de Variáveis #\n",
    "    ############################\n",
    "    dots_surface = font_obj.render(dots, True, fg_color, bg_color) \n",
    "    # Limpe a tela e escreva os textos\n",
    "    greetings_surface.fill(bg_color)\n",
    "    greetings_surface.blit(text_surface, text_rect)\n",
    "    greetings_surface.blit(dots_surface, dots_rect)\n",
    "    \n",
    "\n",
    "    ##########################\n",
    "    # Atualização do Monitor #\n",
    "    ##########################    \n",
    "    main_surface.blit(greetings_surface, (0,0))\n",
    "    pygame.display.update() \n",
    "    fps_clock.tick(hertz)\n",
    "    \n",
    "print('Fim de game.')\n",
    "pygame.quit()"
   ]
  },
  {
   "cell_type": "markdown",
   "metadata": {},
   "source": [
    "### Sobre o controle de FPS\n",
    "\n",
    "A primeira novidade neste nosso novo código diz respeito ao controle de FPS. Isso previne que o mesmo game rode em diferentes velocidades a depender do computador, setando o game para uma taxa de atualização padrão. Em nosso caso, definimos a taxa de atualização para 60 Hertz (ou 60 quadros por segundo). Isto é feito no seguinte trecho de código:\n",
    "```\n",
    "hertz = 60\n",
    "fps_clock = pygame.time.Clock()\n",
    "```\n",
    "O controle de FPS é realizado pelo objeto ```pygame.time.Clock()```. Para que o FPS seja mantido no valor desejado devemos chamar a função ```fps_clock.tick(hertez)``` ao fim de cada iteração. Dessa forma, o Clock se encarrega de dormir o tempo necessário para que se atinja o FPS desejado. Mais informações sobre o objeto _Clock_ podem ser encontradas [aqui](https://www.pygame.org/docs/ref/time.html#pygame.time.Clock).\n"
   ]
  },
  {
   "cell_type": "markdown",
   "metadata": {},
   "source": [
    "### Sobre o uso de temporizadores\n",
    "\n",
    "Existem eventos que possuem um momento exato em que devem acontecer. Em nosso caso, utilizamos o tempo para definir a string ao fim de nossa mensagem, os três pontos animados. Nesse casos, utilizamos um temporizador para ativar tais eventos. O seguinte código se encarrega de setar o temporizador:\n",
    "```\n",
    "pygame.time.set_timer(USEREVENT, 1000) # Cria um temporizador de 1 segundo\n",
    "```\n",
    "Ao completar 1000 milisegundos (que equivale a 1 segundo), o evento passado como parâmetro é disparado. O que é passado, na verdade, é um ID de evento. Segundo a [documentação da função](https://www.pygame.org/docs/ref/time.html#pygame.time.set_timer), é recomendado escolher um id entre USEREVENT e NUMEVENTS. Vamos checar os ids de alguns eventos já abordados:"
   ]
  },
  {
   "cell_type": "code",
   "execution_count": 2,
   "metadata": {},
   "outputs": [
    {
     "name": "stdout",
     "output_type": "stream",
     "text": [
      "O número total de eventos disponíveis é 32\n",
      "0 é o ID do evento NoEvent\n",
      "1 é o ID do evento ActiveEvent\n",
      "2 é o ID do evento KeyDown\n",
      "3 é o ID do evento KeyUp\n",
      "4 é o ID do evento MouseMotion\n",
      "5 é o ID do evento MouseButtonDown\n",
      "6 é o ID do evento MouseButtonUp\n",
      "7 é o ID do evento JoyAxisMotion\n",
      "8 é o ID do evento JoyBallMotion\n",
      "9 é o ID do evento JoyHatMotion\n",
      "10 é o ID do evento JoyButtonDown\n",
      "11 é o ID do evento JoyButtonUp\n",
      "12 é o ID do evento Quit\n",
      "13 é o ID do evento SysWMEvent\n",
      "14 é o ID do evento Unknown\n",
      "15 é o ID do evento Unknown\n",
      "16 é o ID do evento VideoResize\n",
      "17 é o ID do evento VideoExpose\n",
      "18 é o ID do evento Unknown\n",
      "19 é o ID do evento Unknown\n",
      "20 é o ID do evento Unknown\n",
      "21 é o ID do evento Unknown\n",
      "22 é o ID do evento Unknown\n",
      "23 é o ID do evento Unknown\n",
      "24 é o ID do evento UserEvent\n",
      "25 é o ID do evento UserEvent\n",
      "26 é o ID do evento UserEvent\n",
      "27 é o ID do evento UserEvent\n",
      "28 é o ID do evento UserEvent\n",
      "29 é o ID do evento UserEvent\n",
      "30 é o ID do evento UserEvent\n",
      "31 é o ID do evento UserEvent\n"
     ]
    }
   ],
   "source": [
    "import pygame\n",
    "from pygame.locals import *\n",
    "pygame.init()\n",
    "\n",
    "print('O número total de eventos disponíveis é', NUMEVENTS)\n",
    "\n",
    "for id in range(NUMEVENTS):\n",
    "    print(id, 'é o ID do evento', pygame.event.event_name(id))\n",
    "    \n",
    "pygame.quit()"
   ]
  },
  {
   "cell_type": "markdown",
   "metadata": {},
   "source": [
    "### Criação de diferentes Surfaces\n",
    "\n",
    "Definimos uma _Surface_ principal, chamada ```main_surface``` que representará a junção de todos os elementos da tela para ser exibida no monitor. Além da principal, criamos também uma ```greetings_surface```, que contém nossa mensagem de saudação. E porque não desenhamos direto na _Surface_ principal? Ótima pergunta.\n",
    "\n",
    "No próximo tutorial, não teremos apenas uma tela de carregamento a ser mostrada. É de extrema importância definir bem quais telas podem ser mostradas, para que possamos reutilizá-la ao decorrer do game (após a tela de _Game Over_, por exemplo, pode ser desejado mostrar a tela de saudações novamente).\n",
    "\n",
    "Dito isto, vamos aos códigos:\n",
    "\n",
    "```\n",
    "fg_color = (0, 0, 0)\n",
    "bg_color = (255, 255, 255)\n",
    "greetings_surface = pygame.Surface(window_size)\n",
    "greetings_surface.fill(bg_color)\n",
    "```\n",
    "\n",
    "Como você pode ter percebido, no Pygame as cores são representadas por uma tupla de valores de vermelho, verde e azul. Aqui definimos a cor de frente ```fg_color``` como preto e a cor de fundo ```bg_color``` como branco. Além disso, criamos nossa já comentada ```greetings_surface``` do mesmo tamanho da janela, e preenchemos-na com a cor de fundo.\n"
   ]
  },
  {
   "cell_type": "markdown",
   "metadata": {},
   "source": [
    "### Discussão sobre as fontes disponíveis\n",
    "\n",
    "A próxima seção descreve o processo de criação de uma surface contendo textos:\n",
    "\n",
    "```\n",
    "font_size = 25\n",
    "font_obj = pygame.font.Font('freesansbold.ttf', font_size)\n",
    "text_surface = font_obj.render('Preparando para salvar o mundo', True, fg_color, bg_color)\n",
    "```\n",
    "\n",
    "É possível utilizar quaisquer fonts disponíveis no sistema para a criação de textos. É possível saber quais fontes estão disponíveis através do comando ```pygame.font.get_fonts()```. Vamos mostrar as 5 primeiras obtidas, pelo fato de haver muitas:"
   ]
  },
  {
   "cell_type": "code",
   "execution_count": 3,
   "metadata": {},
   "outputs": [
    {
     "name": "stdout",
     "output_type": "stream",
     "text": [
      "arial\n",
      "arialblack\n",
      "bahnschrift\n",
      "calibri\n",
      "cambriacambriamath\n"
     ]
    }
   ],
   "source": [
    "import pygame\n",
    "from pygame.locals import *\n",
    "pygame.init()\n",
    "\n",
    "for font_name in pygame.font.get_fonts()[0:5]:\n",
    "    print(font_name)\n",
    "    \n",
    "pygame.quit()"
   ]
  },
  {
   "cell_type": "markdown",
   "metadata": {},
   "source": [
    "Após definidos o tamanho e a fonte, criamos uma _Surface_ com o texto renderizado. Isso é necessário, uma vez que é preciso converter nossa entrada em imagem para poder ser mostrada na tela (processo conhecido como renderização). É possível também obter os limites da _Surface_ através do objeto ```pygame.Rect```. Vamos conhecê-lo um pouco mais?"
   ]
  },
  {
   "cell_type": "markdown",
   "metadata": {},
   "source": [
    "### Discussão sobre o objeto Rect e seus atributos\n",
    "\n",
    "Um Rect nada mais é do que uma retângulo com abstrações úteis para facilitar a vida do programador. Como mostrado em sua [documentação](https://www.pygame.org/docs/ref/rect.html), um Rect define os limites de uma área retângular, possuindo os seguintes atributos que podem ser utilizados para mover e alinhar objetos:\n",
    "```\n",
    "x,y\n",
    "top, left, bottom, right\n",
    "topleft, bottomleft, topright, bottomright\n",
    "midtop, midleft, midbottom, midright\n",
    "center, centerx, centery\n",
    "size, width, height\n",
    "w,h\n",
    "```\n",
    "\n",
    "Seja ```my_rect``` um objeto do tipo ```pygame.Rect```. Como fazemos para achar sua largura? Basta consultar o valor de ```my_rect.width```. E se quisermos achar a posição do seu centro no eixo X? Simples: ```my_rect.centerx```. E se desejarmos a posição do vértice superior direito? Mamão com açúcar: ```my_rect.topright```.\n",
    "\n",
    "### Continuando a discussão do nosso código\n",
    "\n",
    "Voltando ao nosso código de exemplo, tínhamos:\n",
    "```\n",
    "text_rect = text_surface.get_rect()\n",
    "text_rect.center = greetings_surface.get_rect().center\n",
    "```\n",
    "\n",
    "Aqui, nós extraímos o retângulo que engloba a _Surface_ ```text_surface```, onde nosso texto foi renderizado. Então, nós alinhamos seu centro com o centro da _Surface_ da tela de saudações. No próximo bloco de códigos, fazemos algo parecido:\n",
    "```\n",
    "dots = ''\n",
    "dots_surface = font_obj.render(dots, True, fg_color, bg_color)\n",
    "dots_rect = dots_surface.get_rect()\n",
    "dots_rect.centerx = text_rect.right\n",
    "dots_rect.centery = text_rect.centery\n",
    "````\n",
    "\n",
    "Aqui, defininmos uma string ```dots``` que começa vazia e conterá os três pontos ao fim do primeiro texto. Além disso, seu alinhamento é ligeiramente diferente. Alinhamos a altura (eixo Y) com o primeiro texto. Já o eixo X, definimos que a string ```dots``` possui seu centro à direita do primeiro texto. \n"
   ]
  },
  {
   "cell_type": "markdown",
   "metadata": {},
   "source": [
    "### Por fim, o loop principal\n",
    "\n",
    "Nosso loop principal inicia com:\n",
    "\n",
    "```\n",
    "while is_running:  # Loop principal\n",
    "    ######################\n",
    "    # Entrada de usuário #\n",
    "    ######################\n",
    "    for event in pygame.event.get():\n",
    "        if event.type == QUIT:\n",
    "            is_running = False\n",
    "        elif event.type == USEREVENT:\n",
    "            dots = dots+'.'\n",
    "            if len(dots) > 3:\n",
    "                dots='.'\n",
    "```\n",
    "\n",
    "Agora temos duas checagens de evento disparado. A primeira, ```if event.type == QUIT```, checa se o usuário pressionou o botão de fechar a janela. Já a segunda ```elif event.type == USEREVENT``` checa se o temporizador foi disparado. Em outras palavras, a cada segundo um novo ponto é adicionado à string ```dots```. Caso haja mais que três pontos (quando o tamanho da string excede 3), a string é substituída por um ponto único, reiniciando assim o ciclo. A próxima seção diz respeito à atualização das _Surfaces_:\n",
    "\n",
    "```\n",
    "    ############################\n",
    "    # Atualização de Variáveis #\n",
    "    ############################\n",
    "    dots_surface = font_obj.render(dots, True, fg_color, bg_color) \n",
    "    # Limpe a tela e escreva os textos\n",
    "    greetings_surface.fill(bg_color)\n",
    "    greetings_surface.blit(text_surface, text_rect)\n",
    "    greetings_surface.blit(dots_surface, dots_rect)\n",
    " ```\n",
    " \n",
    "Aqui nós renderizamos a nova string contida na variável ```dots```. E por que não precisamos renderizar a string do texto novamente? Ótima pergunta. A variável ```dots``` pode ter sido mudada, mas nosso texto de saudação certamente não mudou. Dessa forma, apenas a ```dots_surface``` precisa ser atualizada.\n",
    " \n",
    "O comando ```greetings_surface.fill(bg_color)``` preenche a tela de saudação com a cor de fundo, ou seja, apaga tudo o que tinha sido escrito antes. E por que limpamos a tela antes de escrever os textos novamente? Pelo mesmo motivo anterior. Parte dos textos mudam. Se apenas desenhássemos por cima, poderia haver resquícios do último frame desenhado. \n",
    "\n",
    "A função ```greetings_surface.blit()``` recebe dois parâmetros: uma _Surface_ a ser desenhada sobre a _Surface_ ```greetings_surface``` e um _Rect_ ou uma tupla de posições (x, y) indicando a posição onde deve ser desenhada. Desenhamos o texto e então os pontos. Por fim, temos a seção de atualização do que é mostrado na tela:\n",
    "\n",
    "```\n",
    "    ##########################\n",
    "    # Atualização do Monitor #\n",
    "    ##########################    \n",
    "    main_surface.blit(greetings_surface, (0,0))\n",
    "    pygame.display.update() \n",
    "    fps_clock.tick(hertz)\n",
    "```\n",
    "\n",
    "Apenas transferimos tudo o que tinha na tela de saudação para a tela principal, para então atualizar o monitor e garantir a taxa de FPS. Parabéns por chegar até aqui. Eu sei, há bastante coisa pra assimilar. Entretanto, o segredo é ir montando uma base de conhecimentos sólidas. Não passe para o próximo tutorial até o código do atual esteja claro. Caso haja dúvidas, não deixe de consultar a [documentação](https://www.pygame.org/docs/index.html). \n",
    "\n",
    "No próximo tutorial começaremos a utilizar Orientação a Objetos e criaremos um menu de seleção. Até a próxima!\n"
   ]
  }
 ],
 "metadata": {
  "kernelspec": {
   "display_name": "Python 3",
   "language": "python",
   "name": "python3"
  },
  "language_info": {
   "codemirror_mode": {
    "name": "ipython",
    "version": 3
   },
   "file_extension": ".py",
   "mimetype": "text/x-python",
   "name": "python",
   "nbconvert_exporter": "python",
   "pygments_lexer": "ipython3",
   "version": "3.6.3"
  }
 },
 "nbformat": 4,
 "nbformat_minor": 2
}
