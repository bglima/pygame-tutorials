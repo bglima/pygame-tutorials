{
 "cells": [
  {
   "cell_type": "markdown",
   "metadata": {},
   "source": [
    "### O que veremos hoje?\n",
    "\n",
    "Neste tutorial criaremos nossa primeira tela de carregamento, utilizando textos animados. Os assuntos abordados incluem:\n",
    "* Controle de FPS\n",
    "* Utilização de temporizadores\n",
    "* Criação de _Surfaces_\n",
    "* Discussão sobre as fontes disponíveis\n",
    "* Discussão sobre o objeto _Rect_ e seus atributos\n",
    " "
   ]
  },
  {
   "cell_type": "markdown",
   "metadata": {},
   "source": [
    "### Criando _Surfaces_\n",
    "\n",
    "Vamos agora preencher o espaço vazio na seção Atualização de Variáveis. Inicialmente, vamos apenas escrever textos simples. Para não ficar tão chato, faremos um texto estático e um animado. No próximo tutorial aprenderemos como desenhar imagens animadas. "
   ]
  }
 ],
 "metadata": {
  "kernelspec": {
   "display_name": "Python 3",
   "language": "python",
   "name": "python3"
  },
  "language_info": {
   "codemirror_mode": {
    "name": "ipython",
    "version": 3
   },
   "file_extension": ".py",
   "mimetype": "text/x-python",
   "name": "python",
   "nbconvert_exporter": "python",
   "pygments_lexer": "ipython3",
   "version": "3.6.3"
  }
 },
 "nbformat": 4,
 "nbformat_minor": 2
}
