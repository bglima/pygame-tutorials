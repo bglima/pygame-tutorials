{
 "cells": [
  {
   "cell_type": "markdown",
   "metadata": {},
   "source": [
    "### Visão Geral\n",
    "\n",
    "Criaremos um game com a linguagem Python e a biblioteca Pygame. Discutiremos importantes aspectos sobre a estrutura de um jogo, abordando importantes temas como:\n",
    "* Tela de carregamento\n",
    "* Menus\n",
    "* Setagem do FPS\n",
    "* Definição do personagem\n",
    "* Sistema de movimentação do personagem\n",
    "* Definição do cenário\n",
    "* Scrolling do cenário\n",
    "* Eventos de interação personagem/ambiente\n",
    "\n",
    "Não desista. Nos acompanhe nessa jornada, e serás recompensado. O futuro do planeta depende de você.\n"
   ]
  },
  {
   "cell_type": "markdown",
   "metadata": {},
   "source": [
    "### Primeiros passos\n",
    "\n",
    "O [pygame](https://www.pygame.org/) é uma bilbioteca em Python voltada para a criação de jogos, fornecendo diversas funções que auxiliam no desenvolvimento. A instalação é simples, e leva apenas uma linha. Aqui pelo Jupyter Notebook, é necessário colocar o caractere '!' na frente do comando que seria executando pelo terminal. Se for rodar num terminal comum, basta remover o '!'."
   ]
  },
  {
   "cell_type": "code",
   "execution_count": 1,
   "metadata": {},
   "outputs": [
    {
     "name": "stdout",
     "output_type": "stream",
     "text": [
      "Collecting pygame\n",
      "  Downloading https://files.pythonhosted.org/packages/dc/05/58044a365b00999c42d2c36be6ec9ec92048de51cb7d4de09af5f4dadc60/pygame-1.9.4-cp27-cp27m-win_amd64.whl (4.2MB)\n",
      "Installing collected packages: pygame\n",
      "Successfully installed pygame-1.9.4\n"
     ]
    },
    {
     "name": "stderr",
     "output_type": "stream",
     "text": [
      "You are using pip version 18.0, however version 18.1 is available.\n",
      "You should consider upgrading via the 'python -m pip install --upgrade pip' command.\n"
     ]
    }
   ],
   "source": [
    "!pip install pygame"
   ]
  },
  {
   "cell_type": "markdown",
   "metadata": {},
   "source": [
    "### Testando um exemplo\n",
    "\n",
    "Após a instalação, alguns exemplos ficam automaticamente disponíveis. A lista completa de exemplos pode ser encontrada [nesse link](https://www.pygame.org/docs/ref/examples.htmll). Vamos testar um exemplo de **eventos de mouse e teclado**. Tais eventos são a porta de comunicação entre o sistema e as ações do usuário. Eles serão abordados com mais detalhes no decorrer de nossa jornada."
   ]
  },
  {
   "cell_type": "code",
   "execution_count": 2,
   "metadata": {},
   "outputs": [
    {
     "name": "stdout",
     "output_type": "stream",
     "text": [
      "pygame 1.9.4\n",
      "Hello from the pygame community. https://www.pygame.org/contribute.html\n"
     ]
    }
   ],
   "source": [
    "!python -m pygame.examples.eventlist"
   ]
  },
  {
   "cell_type": "markdown",
   "metadata": {},
   "source": [
    "### Ficou curioso? \n",
    "\n",
    "O código completo desse exemplo está disponível no [GitHub](https://github.com/pygame/pygame/blob/master/examples/eventlist.py). Há diversos outros. Experimente rodar diferentes exemplos, por enquanto. No próximo tutorial iniciaremos o desenvolvimento da tela de abertura do nosso game."
   ]
  }
 ],
 "metadata": {
  "kernelspec": {
   "display_name": "Python 3",
   "language": "python",
   "name": "python3"
  },
  "language_info": {
   "codemirror_mode": {
    "name": "ipython",
    "version": 3
   },
   "file_extension": ".py",
   "mimetype": "text/x-python",
   "name": "python",
   "nbconvert_exporter": "python",
   "pygments_lexer": "ipython3",
   "version": "3.6.3"
  }
 },
 "nbformat": 4,
 "nbformat_minor": 2
}
